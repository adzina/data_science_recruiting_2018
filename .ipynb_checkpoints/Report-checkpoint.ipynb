{
 "cells": [
  {
   "cell_type": "markdown",
   "metadata": {},
   "source": [
    "<h1>Data Science Team recruiting task 2018</h1>\n",
    "\n",
    "<h3>Adjusting the data</h3>\n",
    "<p>\n",
    "    To verify if the received data is coherent, I ran the following commands:\n",
    "</p>"
   ]
  },
  {
   "cell_type": "code",
   "execution_count": 216,
   "metadata": {},
   "outputs": [
    {
     "name": "stdout",
     "output_type": "stream",
     "text": [
      "'data.frame':\t81432 obs. of  7 variables:\n",
      " $ ď.żlearner_id: int  1390141 1388365 1387634 1387618 1384847 1384761 1383944 1383138 1382990 1382857 ...\n",
      " $ country      : Factor w/ 88 levels \"\",\"AD\",\"AF\",\"AG\",..: 79 79 28 31 46 62 28 28 46 28 ...\n",
      " $ in_course    : Factor w/ 2 levels \"f\",\"t\": 1 2 2 2 1 1 1 2 2 1 ...\n",
      " $ unit         : Factor w/ 18 levels \"\",\"1\",\"10\",\"11\",..: 2 2 2 2 2 2 2 2 2 2 ...\n",
      " $ avg_score    : num  0.967 0.676 0.677 0.678 0.69 0.691 0.692 1 0.967 0.851 ...\n",
      " $ completion   : num  0.15 0.3 0.158 0.1 0.1 0.1 0.15 0.7 0.35 1 ...\n",
      " $ inv_rate     : num  0 0 0 0 0 0 0 0 0 0 ...\n"
     ]
    }
   ],
   "source": [
    "library(dplyr)\n",
    "library(magrittr)\n",
    "library(reshape2)\n",
    "library(gtools)\n",
    "library(rvest)\n",
    "\n",
    "data<-read.csv('data2018.csv',header=TRUE, sep=\";\")\n",
    "str(data)"
   ]
  },
  {
   "cell_type": "markdown",
   "metadata": {},
   "source": [
    "<p>At the first glance two columns seem off: <b>country</b> and <b>unit</b>, since for some rows they contain value \"\".<br> Next, I have to verify whether the numerical values comply with the metadata included in task2018.pdf."
   ]
  },
  {
   "cell_type": "code",
   "execution_count": 217,
   "metadata": {},
   "outputs": [
    {
     "data": {
      "text/html": [
       "<ol class=list-inline>\n",
       "\t<li>3</li>\n",
       "\t<li>&lt;NA&gt;</li>\n",
       "\t<li>&lt;NA&gt;</li>\n",
       "\t<li>&lt;NA&gt;</li>\n",
       "\t<li>&lt;NA&gt;</li>\n",
       "\t<li>2</li>\n",
       "\t<li>&lt;NA&gt;</li>\n",
       "\t<li>2</li>\n",
       "</ol>\n"
      ],
      "text/latex": [
       "\\begin{enumerate*}\n",
       "\\item 3\n",
       "\\item <NA>\n",
       "\\item <NA>\n",
       "\\item <NA>\n",
       "\\item <NA>\n",
       "\\item 2\n",
       "\\item <NA>\n",
       "\\item 2\n",
       "\\end{enumerate*}\n"
      ],
      "text/markdown": [
       "1. 3\n",
       "2. &lt;NA&gt;\n",
       "3. &lt;NA&gt;\n",
       "4. &lt;NA&gt;\n",
       "5. &lt;NA&gt;\n",
       "6. 2\n",
       "7. &lt;NA&gt;\n",
       "8. 2\n",
       "\n",
       "\n"
      ],
      "text/plain": [
       "[1]  3 NA NA NA NA  2 NA  2"
      ]
     },
     "metadata": {},
     "output_type": "display_data"
    },
    {
     "data": {
      "text/html": [
       "<ol class=list-inline>\n",
       "\t<li>&lt;NA&gt;</li>\n",
       "\t<li>&lt;NA&gt;</li>\n",
       "\t<li>&lt;NA&gt;</li>\n",
       "\t<li>&lt;NA&gt;</li>\n",
       "\t<li>&lt;NA&gt;</li>\n",
       "\t<li>&lt;NA&gt;</li>\n",
       "\t<li>&lt;NA&gt;</li>\n",
       "\t<li>&lt;NA&gt;</li>\n",
       "</ol>\n"
      ],
      "text/latex": [
       "\\begin{enumerate*}\n",
       "\\item <NA>\n",
       "\\item <NA>\n",
       "\\item <NA>\n",
       "\\item <NA>\n",
       "\\item <NA>\n",
       "\\item <NA>\n",
       "\\item <NA>\n",
       "\\item <NA>\n",
       "\\end{enumerate*}\n"
      ],
      "text/markdown": [
       "1. &lt;NA&gt;\n",
       "2. &lt;NA&gt;\n",
       "3. &lt;NA&gt;\n",
       "4. &lt;NA&gt;\n",
       "5. &lt;NA&gt;\n",
       "6. &lt;NA&gt;\n",
       "7. &lt;NA&gt;\n",
       "8. &lt;NA&gt;\n",
       "\n",
       "\n"
      ],
      "text/plain": [
       "[1] NA NA NA NA NA NA NA NA"
      ]
     },
     "metadata": {},
     "output_type": "display_data"
    },
    {
     "data": {
      "text/html": [],
      "text/latex": [],
      "text/markdown": [],
      "text/plain": [
       "numeric(0)"
      ]
     },
     "metadata": {},
     "output_type": "display_data"
    },
    {
     "data": {
      "text/html": [],
      "text/latex": [],
      "text/markdown": [],
      "text/plain": [
       "numeric(0)"
      ]
     },
     "metadata": {},
     "output_type": "display_data"
    },
    {
     "data": {
      "text/html": [
       "<ol class=list-inline>\n",
       "\t<li>2</li>\n",
       "\t<li>&lt;NA&gt;</li>\n",
       "\t<li>&lt;NA&gt;</li>\n",
       "\t<li>&lt;NA&gt;</li>\n",
       "\t<li>&lt;NA&gt;</li>\n",
       "\t<li>&lt;NA&gt;</li>\n",
       "</ol>\n"
      ],
      "text/latex": [
       "\\begin{enumerate*}\n",
       "\\item 2\n",
       "\\item <NA>\n",
       "\\item <NA>\n",
       "\\item <NA>\n",
       "\\item <NA>\n",
       "\\item <NA>\n",
       "\\end{enumerate*}\n"
      ],
      "text/markdown": [
       "1. 2\n",
       "2. &lt;NA&gt;\n",
       "3. &lt;NA&gt;\n",
       "4. &lt;NA&gt;\n",
       "5. &lt;NA&gt;\n",
       "6. &lt;NA&gt;\n",
       "\n",
       "\n"
      ],
      "text/plain": [
       "[1]  2 NA NA NA NA NA"
      ]
     },
     "metadata": {},
     "output_type": "display_data"
    },
    {
     "data": {
      "text/html": [
       "<ol class=list-inline>\n",
       "\t<li>&lt;NA&gt;</li>\n",
       "\t<li>&lt;NA&gt;</li>\n",
       "\t<li>&lt;NA&gt;</li>\n",
       "\t<li>&lt;NA&gt;</li>\n",
       "\t<li>&lt;NA&gt;</li>\n",
       "\t<li>&lt;NA&gt;</li>\n",
       "</ol>\n"
      ],
      "text/latex": [
       "\\begin{enumerate*}\n",
       "\\item <NA>\n",
       "\\item <NA>\n",
       "\\item <NA>\n",
       "\\item <NA>\n",
       "\\item <NA>\n",
       "\\item <NA>\n",
       "\\end{enumerate*}\n"
      ],
      "text/markdown": [
       "1. &lt;NA&gt;\n",
       "2. &lt;NA&gt;\n",
       "3. &lt;NA&gt;\n",
       "4. &lt;NA&gt;\n",
       "5. &lt;NA&gt;\n",
       "6. &lt;NA&gt;\n",
       "\n",
       "\n"
      ],
      "text/plain": [
       "[1] NA NA NA NA NA NA"
      ]
     },
     "metadata": {},
     "output_type": "display_data"
    }
   ],
   "source": [
    "#display all incorrect values, replace them with NA and verify if the operation was succesful\n",
    "data$avg_score[(data$avg_score>1 | data$avg_score<0)]\n",
    "data$avg_score[data$avg_score>1 | data$avg_score<0]<-NA\n",
    "data$avg_score[data$avg_score>1 | data$avg_score<0]\n",
    "\n",
    "\n",
    "data$completion[(data$completion>1 | data$completion<0)]\n",
    "data$completion[data$completion>1 | data$completion<0]<-NA\n",
    "data$completion[data$completion>1 | data$completion<0]\n",
    "\n",
    "\n",
    "data$inv_rate[(data$inv_rate>1 | data$inv_rate<0)]\n",
    "data$inv_rate[(data$inv_rate>1 | data$inv_rate<0)]<-NA\n",
    "data$inv_rate[(data$inv_rate>1 | data$inv_rate<0)]"
   ]
  },
  {
   "cell_type": "markdown",
   "metadata": {},
   "source": [
    "<p>Now, I want to display the top 6 countries with the biggest number of self-taught students</p>"
   ]
  },
  {
   "cell_type": "code",
   "execution_count": 218,
   "metadata": {},
   "outputs": [],
   "source": [
    "url <- \"https://countrycode.org\"\n",
    "\n",
    "my_html <- read_html(url)\n",
    "\n",
    "my_table <- html_nodes(my_html,\"table\")[[1]]\n",
    "codes_table <- html_table(my_table)\n",
    "#could add dplyr here to persofm select on two columns\n",
    "codes_table <- codes_table[,c(1,3)]\n",
    "\n",
    "names(codes_table) = c(\"Country\",\"Code\")\n",
    "for(i in 1:nrow(codes_table)){\n",
    "    codes_table[i,\"Code\"]<-substr(codes_table[i,\"Code\"],1,2)\n",
    "}\n"
   ]
  },
  {
   "cell_type": "code",
   "execution_count": 228,
   "metadata": {},
   "outputs": [
    {
     "name": "stderr",
     "output_type": "stream",
     "text": [
      "Warning message:\n",
      "\"Column `Code` joining character vector and factor, coercing into character vector\""
     ]
    },
    {
     "data": {
      "text/html": [
       "<table>\n",
       "<thead><tr><th></th><th scope=col>Country</th><th scope=col>nr_students</th></tr></thead>\n",
       "<tbody>\n",
       "\t<tr><th scope=row>50</th><td>Turkey     </td><td>2552       </td></tr>\n",
       "\t<tr><th scope=row>25</th><td>Spain      </td><td>1595       </td></tr>\n",
       "\t<tr><th scope=row>41</th><td>Poland     </td><td> 498       </td></tr>\n",
       "\t<tr><th scope=row>20</th><td>Colombia   </td><td> 420       </td></tr>\n",
       "\t<tr><th scope=row>30</th><td>Italy      </td><td> 407       </td></tr>\n",
       "\t<tr><th scope=row>39</th><td>Netherlands</td><td>  77       </td></tr>\n",
       "</tbody>\n",
       "</table>\n"
      ],
      "text/latex": [
       "\\begin{tabular}{r|ll}\n",
       "  & Country & nr\\_students\\\\\n",
       "\\hline\n",
       "\t50 & Turkey      & 2552       \\\\\n",
       "\t25 & Spain       & 1595       \\\\\n",
       "\t41 & Poland      &  498       \\\\\n",
       "\t20 & Colombia    &  420       \\\\\n",
       "\t30 & Italy       &  407       \\\\\n",
       "\t39 & Netherlands &   77       \\\\\n",
       "\\end{tabular}\n"
      ],
      "text/markdown": [
       "\n",
       "| <!--/--> | Country | nr_students | \n",
       "|---|---|---|---|---|---|\n",
       "| 50 | Turkey      | 2552        | \n",
       "| 25 | Spain       | 1595        | \n",
       "| 41 | Poland      |  498        | \n",
       "| 20 | Colombia    |  420        | \n",
       "| 30 | Italy       |  407        | \n",
       "| 39 | Netherlands |   77        | \n",
       "\n",
       "\n"
      ],
      "text/plain": [
       "   Country     nr_students\n",
       "50 Turkey      2552       \n",
       "25 Spain       1595       \n",
       "41 Poland       498       \n",
       "20 Colombia     420       \n",
       "30 Italy        407       \n",
       "39 Netherlands   77       "
      ]
     },
     "metadata": {},
     "output_type": "display_data"
    }
   ],
   "source": [
    "in_course<-data[which(data$in_course==\"t\"),]\n",
    "self_taught<-data[which(data$in_course==\"f\"),]\n",
    "\n",
    "top_6<-aggregate(self_taught[, 5], list(self_taught$country), FUN=length)\n",
    "\n",
    "names(top_6)<-c(\"Code\",\"nr_students\")\n",
    "\n",
    "top_6<-right_join(codes_table,top_6,by=\"Code\")[,c(1,3)]\n",
    "#png(\"countries.png\")\n",
    "head(top_6[order(-top_6$nr_students),])\n",
    "#p<-tableGrob(head(top_6[order(-top_6$nr_students),]))\n",
    "#grid.arrange(p)\n",
    "#dev.off()"
   ]
  },
  {
   "cell_type": "markdown",
   "metadata": {},
   "source": [
    "Is there a correlation between inv_rate and avg_score or between completion and avg_score?"
   ]
  },
  {
   "cell_type": "code",
   "execution_count": 236,
   "metadata": {},
   "outputs": [
    {
     "data": {
      "text/html": [
       "<table>\n",
       "<thead><tr><th></th><th scope=col>inv_rate</th><th scope=col>completion</th></tr></thead>\n",
       "<tbody>\n",
       "\t<tr><th scope=row>avg_score</th><td>-0.059</td><td>0.105 </td></tr>\n",
       "</tbody>\n",
       "</table>\n"
      ],
      "text/latex": [
       "\\begin{tabular}{r|ll}\n",
       "  & inv\\_rate & completion\\\\\n",
       "\\hline\n",
       "\tavg\\_score & -0.059 & 0.105 \\\\\n",
       "\\end{tabular}\n"
      ],
      "text/markdown": [
       "\n",
       "| <!--/--> | inv_rate | completion | \n",
       "|---|\n",
       "| avg_score | -0.059 | 0.105  | \n",
       "\n",
       "\n"
      ],
      "text/plain": [
       "          inv_rate completion\n",
       "avg_score -0.059   0.105     "
      ]
     },
     "metadata": {},
     "output_type": "display_data"
    }
   ],
   "source": [
    "library(\"ggpubr\") \n",
    "mat <- matrix(c(round(cor(data$inv_rate,data$avg_score, use=\"pairwise.complete.obs\", method=\"pearson\" ),digits=3),\n",
    "                  round(cor(data$completion,data$avg_score, use=\"pairwise.complete.obs\", method=\"pearson\" ),digits=3)),\n",
    "                ncol=2,byrow=TRUE)\n",
    "colnames(mat) <- c(\"inv_rate\",\"completion\")\n",
    "rownames(mat) <- c(\"avg_score\")\n",
    "#png(\"correlation.png\")\n",
    "#p<-tableGrob(mat)\n",
    "#grid.arrange(p)\n",
    "#dev.off()\n",
    "mat"
   ]
  },
  {
   "cell_type": "markdown",
   "metadata": {},
   "source": [
    "<p> There is no correlation between those values, so it is not crucial for students to solve tasks in units from first to last. As a result, I do not have to look for units with highest <b>inv_rate</b> but I'll look for  the most difficult ones.</p>"
   ]
  },
  {
   "cell_type": "code",
   "execution_count": 221,
   "metadata": {},
   "outputs": [
    {
     "data": {},
     "metadata": {},
     "output_type": "display_data"
    },
    {
     "data": {
      "image/png": "[encoded data removed]",
      "text/plain": [
       "plot without title"
      ]
     },
     "metadata": {},
     "output_type": "display_data"
    }
   ],
   "source": [
    "#calculates average score of self-taught students in every unit\n",
    "grouped<-aggregate(self_taught[, 5], list(self_taught$unit), mean,na.rm=TRUE)\n",
    "grouped<-grouped[order(grouped$x),]\n",
    "names(grouped)<-c(\"Unit\",\"self_taught\")\n",
    "\n",
    "#calculates average score of in-course students in every unit\n",
    "grouped2<-aggregate(in_course[,5],list(in_course$unit),mean, na.rm=TRUE)\n",
    "names(grouped2)<-c(\"Unit\",\"in_course\")\n",
    "\n",
    "#merges data from those tables into one \n",
    "#and adds a temporary column with difference between average for self-taught and in-course students\n",
    "#orders the data by difference\n",
    "merged<-merge(x = grouped, y = grouped2, by =\"Unit\", all = TRUE)\n",
    "merged<-merged %>% mutate(dif=in_course-self_taught)%>% filter(dif!=\"NA\")\n",
    "merged<-merged[order(merged$dif),]\n",
    "merged<-merged[1:3]\n",
    "#prepares data to be displayed on a chart - there are two rows for each unit\n",
    "#one with average for self-taught students and one with average for in-course students\n",
    "dfm<- melt(merged, id.vars = \"Unit\")\n",
    "names(dfm)<-c(\"Unit\",\"Student_type\",\"Mean_score\")\n",
    "\n",
    "#sorts melted dataframe by difference of average scores\n",
    "dfm<-left_join(merged[1],dfm,by=\"Unit\")\n",
    "dfm$Unit <- factor(dfm$Unit, levels=unique(dfm$Unit))\n",
    "\n",
    "#jpg(\"rpolt.jpg\")\n",
    "#draws the plot\n",
    "p <- ggplot(dfm, aes(x = Unit, y = Mean_score, colour = Student_type, group=Student_type))\n",
    "p + geom_line() + coord_flip()\n",
    "#dev.off()"
   ]
  },
  {
   "cell_type": "markdown",
   "metadata": {},
   "source": [
    "<p>Is there a difference in performance of self-taught and in-course students?</p>"
   ]
  },
  {
   "cell_type": "code",
   "execution_count": 222,
   "metadata": {},
   "outputs": [
    {
     "data": {
      "text/html": [
       "<table>\n",
       "<thead><tr><th></th><th scope=col>Self-taught</th><th scope=col>In course</th></tr></thead>\n",
       "<tbody>\n",
       "\t<tr><th scope=row>completion</th><td>0.67</td><td>0.82</td></tr>\n",
       "\t<tr><th scope=row>avg_score</th><td>0.75</td><td>0.80</td></tr>\n",
       "</tbody>\n",
       "</table>\n"
      ],
      "text/latex": [
       "\\begin{tabular}{r|ll}\n",
       "  & Self-taught & In course\\\\\n",
       "\\hline\n",
       "\tcompletion & 0.67 & 0.82\\\\\n",
       "\tavg\\_score & 0.75 & 0.80\\\\\n",
       "\\end{tabular}\n"
      ],
      "text/markdown": [
       "\n",
       "| <!--/--> | Self-taught | In course | \n",
       "|---|---|\n",
       "| completion | 0.67 | 0.82 | \n",
       "| avg_score | 0.75 | 0.80 | \n",
       "\n",
       "\n"
      ],
      "text/plain": [
       "           Self-taught In course\n",
       "completion 0.67        0.82     \n",
       "avg_score  0.75        0.80     "
      ]
     },
     "metadata": {},
     "output_type": "display_data"
    }
   ],
   "source": [
    "\n",
    "library(gridExtra)\n",
    "mat <- matrix(c(round(mean(self_taught$completion,na.rm=TRUE),digits=2),\n",
    "                  round(mean(in_course$completion,na.rm=TRUE),digits=2),\n",
    "                  round(mean(self_taught$avg_score,na.rm=TRUE),digits=2),\n",
    "                  round(mean(in_course$avg_score,na.rm=TRUE),digits=2)),\n",
    "                ncol=2,byrow=TRUE)\n",
    "colnames(mat) <- c(\"Self-taught\",\"In course\")\n",
    "rownames(mat) <- c(\"completion\",\"avg_score\")\n",
    "\n",
    "#png(\"students.png\")\n",
    "mat<-as.data.frame.matrix(mat)\n",
    "mat\n",
    "#p<-tableGrob(mat)\n",
    "#grid.arrange(p)\n",
    "#dev.off()"
   ]
  },
  {
   "cell_type": "markdown",
   "metadata": {},
   "source": [
    "<p>I'm looking for units with high average <b>inv_rate</b>. If there are some, maybe it would be a good idea to reorganize exercises within units.</p>"
   ]
  },
  {
   "cell_type": "code",
   "execution_count": 223,
   "metadata": {},
   "outputs": [
    {
     "data": {
      "text/html": [
       "<table>\n",
       "<thead><tr><th></th><th scope=col>Unit</th><th scope=col>mean_inv_rate</th></tr></thead>\n",
       "<tbody>\n",
       "\t<tr><th scope=row>1</th><td>              </td><td>0.02290909    </td></tr>\n",
       "\t<tr><th scope=row>14</th><td>REVIEW 1      </td><td>0.03080207    </td></tr>\n",
       "\t<tr><th scope=row>16</th><td>REVIEW 3      </td><td>0.04026468    </td></tr>\n",
       "\t<tr><th scope=row>15</th><td>REVIEW 2      </td><td>0.04201046    </td></tr>\n",
       "\t<tr><th scope=row>18</th><td>VIDEO PODCASTS</td><td>0.04211025    </td></tr>\n",
       "\t<tr><th scope=row>13</th><td>9             </td><td>0.04215706    </td></tr>\n",
       "\t<tr><th scope=row>2</th><td>1             </td><td>0.04250890    </td></tr>\n",
       "\t<tr><th scope=row>12</th><td>8             </td><td>0.04336093    </td></tr>\n",
       "\t<tr><th scope=row>8</th><td>4             </td><td>0.04366886    </td></tr>\n",
       "\t<tr><th scope=row>7</th><td>3             </td><td>0.04504853    </td></tr>\n",
       "\t<tr><th scope=row>3</th><td>10            </td><td>0.04578929    </td></tr>\n",
       "\t<tr><th scope=row>10</th><td>6             </td><td>0.04591813    </td></tr>\n",
       "\t<tr><th scope=row>11</th><td>7             </td><td>0.04660631    </td></tr>\n",
       "\t<tr><th scope=row>4</th><td>11            </td><td>0.04852636    </td></tr>\n",
       "\t<tr><th scope=row>9</th><td>5             </td><td>0.04920518    </td></tr>\n",
       "\t<tr><th scope=row>6</th><td>2             </td><td>0.04999070    </td></tr>\n",
       "\t<tr><th scope=row>5</th><td>12            </td><td>0.06306503    </td></tr>\n",
       "\t<tr><th scope=row>17</th><td>REVIEW 4      </td><td>0.06718012    </td></tr>\n",
       "</tbody>\n",
       "</table>\n"
      ],
      "text/latex": [
       "\\begin{tabular}{r|ll}\n",
       "  & Unit & mean\\_inv\\_rate\\\\\n",
       "\\hline\n",
       "\t1 &                & 0.02290909    \\\\\n",
       "\t14 & REVIEW 1       & 0.03080207    \\\\\n",
       "\t16 & REVIEW 3       & 0.04026468    \\\\\n",
       "\t15 & REVIEW 2       & 0.04201046    \\\\\n",
       "\t18 & VIDEO PODCASTS & 0.04211025    \\\\\n",
       "\t13 & 9              & 0.04215706    \\\\\n",
       "\t2 & 1              & 0.04250890    \\\\\n",
       "\t12 & 8              & 0.04336093    \\\\\n",
       "\t8 & 4              & 0.04366886    \\\\\n",
       "\t7 & 3              & 0.04504853    \\\\\n",
       "\t3 & 10             & 0.04578929    \\\\\n",
       "\t10 & 6              & 0.04591813    \\\\\n",
       "\t11 & 7              & 0.04660631    \\\\\n",
       "\t4 & 11             & 0.04852636    \\\\\n",
       "\t9 & 5              & 0.04920518    \\\\\n",
       "\t6 & 2              & 0.04999070    \\\\\n",
       "\t5 & 12             & 0.06306503    \\\\\n",
       "\t17 & REVIEW 4       & 0.06718012    \\\\\n",
       "\\end{tabular}\n"
      ],
      "text/markdown": [
       "\n",
       "| <!--/--> | Unit | mean_inv_rate | \n",
       "|---|---|---|---|---|---|---|---|---|---|---|---|---|---|---|---|---|---|\n",
       "| 1 |                | 0.02290909     | \n",
       "| 14 | REVIEW 1       | 0.03080207     | \n",
       "| 16 | REVIEW 3       | 0.04026468     | \n",
       "| 15 | REVIEW 2       | 0.04201046     | \n",
       "| 18 | VIDEO PODCASTS | 0.04211025     | \n",
       "| 13 | 9              | 0.04215706     | \n",
       "| 2 | 1              | 0.04250890     | \n",
       "| 12 | 8              | 0.04336093     | \n",
       "| 8 | 4              | 0.04366886     | \n",
       "| 7 | 3              | 0.04504853     | \n",
       "| 3 | 10             | 0.04578929     | \n",
       "| 10 | 6              | 0.04591813     | \n",
       "| 11 | 7              | 0.04660631     | \n",
       "| 4 | 11             | 0.04852636     | \n",
       "| 9 | 5              | 0.04920518     | \n",
       "| 6 | 2              | 0.04999070     | \n",
       "| 5 | 12             | 0.06306503     | \n",
       "| 17 | REVIEW 4       | 0.06718012     | \n",
       "\n",
       "\n"
      ],
      "text/plain": [
       "   Unit           mean_inv_rate\n",
       "1                 0.02290909   \n",
       "14 REVIEW 1       0.03080207   \n",
       "16 REVIEW 3       0.04026468   \n",
       "15 REVIEW 2       0.04201046   \n",
       "18 VIDEO PODCASTS 0.04211025   \n",
       "13 9              0.04215706   \n",
       "2  1              0.04250890   \n",
       "12 8              0.04336093   \n",
       "8  4              0.04366886   \n",
       "7  3              0.04504853   \n",
       "3  10             0.04578929   \n",
       "10 6              0.04591813   \n",
       "11 7              0.04660631   \n",
       "4  11             0.04852636   \n",
       "9  5              0.04920518   \n",
       "6  2              0.04999070   \n",
       "5  12             0.06306503   \n",
       "17 REVIEW 4       0.06718012   "
      ]
     },
     "metadata": {},
     "output_type": "display_data"
    }
   ],
   "source": [
    "grouped<-aggregate(data[, 7], list(data$unit), mean,na.rm=TRUE)\n",
    "grouped<-grouped[order(grouped$x),]\n",
    "names(grouped)<-c(\"Unit\",\"mean_inv_rate\")\n",
    "grouped\n",
    "#png(\"Unit-inv_rate.png\")\n",
    "#grid.arrange(tableGrob(grouped))\n",
    "#dev.off()"
   ]
  },
  {
   "cell_type": "markdown",
   "metadata": {},
   "source": [
    "<p>There are no chapters with elevated <b>inv_rate</b>, there is no need to reorganize exercises.<br>\n",
    "    Next, I'm looking for units with low <b>completion</b> rate.\n",
    "</p>"
   ]
  },
  {
   "cell_type": "code",
   "execution_count": 224,
   "metadata": {},
   "outputs": [
    {
     "data": {
      "text/html": [
       "<table>\n",
       "<thead><tr><th scope=col>Unit</th><th scope=col>mean_completion</th></tr></thead>\n",
       "<tbody>\n",
       "\t<tr><td>VIDEO PODCASTS</td><td>0.5167432     </td></tr>\n",
       "\t<tr><td>12            </td><td>0.6033358     </td></tr>\n",
       "\t<tr><td>11            </td><td>0.6531874     </td></tr>\n",
       "\t<tr><td>10            </td><td>0.6886079     </td></tr>\n",
       "\t<tr><td>1             </td><td>0.7894154     </td></tr>\n",
       "\t<tr><td>8             </td><td>0.7943812     </td></tr>\n",
       "\t<tr><td>5             </td><td>0.7971487     </td></tr>\n",
       "\t<tr><td>REVIEW 4      </td><td>0.8121346     </td></tr>\n",
       "\t<tr><td>9             </td><td>0.8216693     </td></tr>\n",
       "\t<tr><td>3             </td><td>0.8238599     </td></tr>\n",
       "\t<tr><td>4             </td><td>0.8304309     </td></tr>\n",
       "\t<tr><td>2             </td><td>0.8322787     </td></tr>\n",
       "\t<tr><td>7             </td><td>0.8358927     </td></tr>\n",
       "\t<tr><td>6             </td><td>0.8415606     </td></tr>\n",
       "\t<tr><td>REVIEW 1      </td><td>0.8875719     </td></tr>\n",
       "\t<tr><td>REVIEW 3      </td><td>0.9243616     </td></tr>\n",
       "\t<tr><td>REVIEW 2      </td><td>0.9249665     </td></tr>\n",
       "</tbody>\n",
       "</table>\n"
      ],
      "text/latex": [
       "\\begin{tabular}{r|ll}\n",
       " Unit & mean\\_completion\\\\\n",
       "\\hline\n",
       "\t VIDEO PODCASTS & 0.5167432     \\\\\n",
       "\t 12             & 0.6033358     \\\\\n",
       "\t 11             & 0.6531874     \\\\\n",
       "\t 10             & 0.6886079     \\\\\n",
       "\t 1              & 0.7894154     \\\\\n",
       "\t 8              & 0.7943812     \\\\\n",
       "\t 5              & 0.7971487     \\\\\n",
       "\t REVIEW 4       & 0.8121346     \\\\\n",
       "\t 9              & 0.8216693     \\\\\n",
       "\t 3              & 0.8238599     \\\\\n",
       "\t 4              & 0.8304309     \\\\\n",
       "\t 2              & 0.8322787     \\\\\n",
       "\t 7              & 0.8358927     \\\\\n",
       "\t 6              & 0.8415606     \\\\\n",
       "\t REVIEW 1       & 0.8875719     \\\\\n",
       "\t REVIEW 3       & 0.9243616     \\\\\n",
       "\t REVIEW 2       & 0.9249665     \\\\\n",
       "\\end{tabular}\n"
      ],
      "text/markdown": [
       "\n",
       "Unit | mean_completion | \n",
       "|---|---|---|---|---|---|---|---|---|---|---|---|---|---|---|---|---|\n",
       "| VIDEO PODCASTS | 0.5167432      | \n",
       "| 12             | 0.6033358      | \n",
       "| 11             | 0.6531874      | \n",
       "| 10             | 0.6886079      | \n",
       "| 1              | 0.7894154      | \n",
       "| 8              | 0.7943812      | \n",
       "| 5              | 0.7971487      | \n",
       "| REVIEW 4       | 0.8121346      | \n",
       "| 9              | 0.8216693      | \n",
       "| 3              | 0.8238599      | \n",
       "| 4              | 0.8304309      | \n",
       "| 2              | 0.8322787      | \n",
       "| 7              | 0.8358927      | \n",
       "| 6              | 0.8415606      | \n",
       "| REVIEW 1       | 0.8875719      | \n",
       "| REVIEW 3       | 0.9243616      | \n",
       "| REVIEW 2       | 0.9249665      | \n",
       "\n",
       "\n"
      ],
      "text/plain": [
       "   Unit           mean_completion\n",
       "1  VIDEO PODCASTS 0.5167432      \n",
       "2  12             0.6033358      \n",
       "3  11             0.6531874      \n",
       "4  10             0.6886079      \n",
       "5  1              0.7894154      \n",
       "6  8              0.7943812      \n",
       "7  5              0.7971487      \n",
       "8  REVIEW 4       0.8121346      \n",
       "9  9              0.8216693      \n",
       "10 3              0.8238599      \n",
       "11 4              0.8304309      \n",
       "12 2              0.8322787      \n",
       "13 7              0.8358927      \n",
       "14 6              0.8415606      \n",
       "15 REVIEW 1       0.8875719      \n",
       "16 REVIEW 3       0.9243616      \n",
       "17 REVIEW 2       0.9249665      "
      ]
     },
     "metadata": {},
     "output_type": "display_data"
    }
   ],
   "source": [
    "grouped<-aggregate(data[, 6], list(data$unit), mean,na.rm=TRUE)\n",
    "grouped<-grouped[order(grouped$x),]\n",
    "names(grouped)<-c(\"Unit\",\"mean_completion\")\n",
    "grouped<-filter(grouped,Unit!=\"\")\n",
    "grouped\n",
    "#png(\"Unit-completion_rate.png\")\n",
    "#grid.arrange(tableGrob(grouped))\n",
    "#dev.off()"
   ]
  },
  {
   "cell_type": "markdown",
   "metadata": {},
   "source": [
    "<p>Video podcasts could be shorter or more diversified in order to attract students.<br>\n",
    "    Now, I'm looking for units completed by the smallest number of students.\n",
    "</p>"
   ]
  },
  {
   "cell_type": "code",
   "execution_count": 225,
   "metadata": {},
   "outputs": [
    {
     "data": {
      "text/html": [
       "<table>\n",
       "<thead><tr><th></th><th scope=col>Unit</th><th scope=col>nr of students</th></tr></thead>\n",
       "<tbody>\n",
       "\t<tr><th scope=row>2</th><td>1             </td><td>11407         </td></tr>\n",
       "\t<tr><th scope=row>6</th><td>2             </td><td> 9244         </td></tr>\n",
       "\t<tr><th scope=row>7</th><td>3             </td><td> 8160         </td></tr>\n",
       "\t<tr><th scope=row>8</th><td>4             </td><td> 7154         </td></tr>\n",
       "\t<tr><th scope=row>9</th><td>5             </td><td> 6448         </td></tr>\n",
       "\t<tr><th scope=row>10</th><td>6             </td><td> 5912         </td></tr>\n",
       "\t<tr><th scope=row>14</th><td>REVIEW 1      </td><td> 5401         </td></tr>\n",
       "\t<tr><th scope=row>11</th><td>7             </td><td> 5296         </td></tr>\n",
       "\t<tr><th scope=row>12</th><td>8             </td><td> 4832         </td></tr>\n",
       "\t<tr><th scope=row>15</th><td>REVIEW 2      </td><td> 3824         </td></tr>\n",
       "\t<tr><th scope=row>13</th><td>9             </td><td> 3610         </td></tr>\n",
       "\t<tr><th scope=row>18</th><td>VIDEO PODCASTS</td><td> 3365         </td></tr>\n",
       "\t<tr><th scope=row>16</th><td>REVIEW 3      </td><td> 2384         </td></tr>\n",
       "\t<tr><th scope=row>3</th><td>10            </td><td> 1757         </td></tr>\n",
       "\t<tr><th scope=row>4</th><td>11            </td><td> 1195         </td></tr>\n",
       "\t<tr><th scope=row>5</th><td>12            </td><td>  938         </td></tr>\n",
       "\t<tr><th scope=row>17</th><td>REVIEW 4      </td><td>  483         </td></tr>\n",
       "\t<tr><th scope=row>1</th><td>              </td><td>   22         </td></tr>\n",
       "</tbody>\n",
       "</table>\n"
      ],
      "text/latex": [
       "\\begin{tabular}{r|ll}\n",
       "  & Unit & nr of students\\\\\n",
       "\\hline\n",
       "\t2 & 1              & 11407         \\\\\n",
       "\t6 & 2              &  9244         \\\\\n",
       "\t7 & 3              &  8160         \\\\\n",
       "\t8 & 4              &  7154         \\\\\n",
       "\t9 & 5              &  6448         \\\\\n",
       "\t10 & 6              &  5912         \\\\\n",
       "\t14 & REVIEW 1       &  5401         \\\\\n",
       "\t11 & 7              &  5296         \\\\\n",
       "\t12 & 8              &  4832         \\\\\n",
       "\t15 & REVIEW 2       &  3824         \\\\\n",
       "\t13 & 9              &  3610         \\\\\n",
       "\t18 & VIDEO PODCASTS &  3365         \\\\\n",
       "\t16 & REVIEW 3       &  2384         \\\\\n",
       "\t3 & 10             &  1757         \\\\\n",
       "\t4 & 11             &  1195         \\\\\n",
       "\t5 & 12             &   938         \\\\\n",
       "\t17 & REVIEW 4       &   483         \\\\\n",
       "\t1 &                &    22         \\\\\n",
       "\\end{tabular}\n"
      ],
      "text/markdown": [
       "\n",
       "| <!--/--> | Unit | nr of students | \n",
       "|---|---|---|---|---|---|---|---|---|---|---|---|---|---|---|---|---|---|\n",
       "| 2 | 1              | 11407          | \n",
       "| 6 | 2              |  9244          | \n",
       "| 7 | 3              |  8160          | \n",
       "| 8 | 4              |  7154          | \n",
       "| 9 | 5              |  6448          | \n",
       "| 10 | 6              |  5912          | \n",
       "| 14 | REVIEW 1       |  5401          | \n",
       "| 11 | 7              |  5296          | \n",
       "| 12 | 8              |  4832          | \n",
       "| 15 | REVIEW 2       |  3824          | \n",
       "| 13 | 9              |  3610          | \n",
       "| 18 | VIDEO PODCASTS |  3365          | \n",
       "| 16 | REVIEW 3       |  2384          | \n",
       "| 3 | 10             |  1757          | \n",
       "| 4 | 11             |  1195          | \n",
       "| 5 | 12             |   938          | \n",
       "| 17 | REVIEW 4       |   483          | \n",
       "| 1 |                |    22          | \n",
       "\n",
       "\n"
      ],
      "text/plain": [
       "   Unit           nr of students\n",
       "2  1              11407         \n",
       "6  2               9244         \n",
       "7  3               8160         \n",
       "8  4               7154         \n",
       "9  5               6448         \n",
       "10 6               5912         \n",
       "14 REVIEW 1        5401         \n",
       "11 7               5296         \n",
       "12 8               4832         \n",
       "15 REVIEW 2        3824         \n",
       "13 9               3610         \n",
       "18 VIDEO PODCASTS  3365         \n",
       "16 REVIEW 3        2384         \n",
       "3  10              1757         \n",
       "4  11              1195         \n",
       "5  12               938         \n",
       "17 REVIEW 4         483         \n",
       "1                    22         "
      ]
     },
     "metadata": {},
     "output_type": "display_data"
    }
   ],
   "source": [
    "grouped<-aggregate(data$country, list(data$unit), FUN = length)\n",
    "grouped<-grouped[order(-grouped$x),]\n",
    "names(grouped)<-c(\"Unit\",\"nr of students\")\n",
    "grouped\n",
    "#png(\"Unit-smallest-nr.png\")\n",
    "#grid.arrange(tableGrob(grouped))\n",
    "#dev.off()"
   ]
  },
  {
   "cell_type": "markdown",
   "metadata": {},
   "source": [
    "<p>As expected, the further the chapter in the book, the fewer students start it.</p>"
   ]
  }
 ],
 "metadata": {
  "kernelspec": {
   "display_name": "R",
   "language": "R",
   "name": "ir"
  },
  "language_info": {
   "codemirror_mode": "r",
   "file_extension": ".r",
   "mimetype": "text/x-r-source",
   "name": "R",
   "pygments_lexer": "r",
   "version": "3.4.3"
  }
 },
 "nbformat": 4,
 "nbformat_minor": 2
}
